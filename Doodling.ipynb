{
 "cells": [
  {
   "cell_type": "code",
   "execution_count": 1,
   "id": "72eedcb1",
   "metadata": {},
   "outputs": [],
   "source": [
    "import numpy as np\n",
    "import pandas as pd\n",
    "import matplotlib.pyplot as plt"
   ]
  },
  {
   "cell_type": "markdown",
   "id": "6847dc8d",
   "metadata": {},
   "source": [
    "# Monkeypox in Europe"
   ]
  },
  {
   "cell_type": "code",
   "execution_count": 2,
   "id": "a9e486dc",
   "metadata": {},
   "outputs": [],
   "source": [
    "cases = np.array([347, 514, 653, 922, 1102])\n",
    "\n",
    "day_index = np.array([0, 4, 7, 11, 14])\n",
    "assert len(cases)==len(day_index)"
   ]
  },
  {
   "cell_type": "code",
   "execution_count": 3,
   "id": "25679ad5",
   "metadata": {},
   "outputs": [
    {
     "data": {
      "image/png": "[encoded data removed]",
      "text/plain": [
       "<Figure size 432x288 with 1 Axes>"
      ]
     },
     "metadata": {
      "needs_background": "light"
     },
     "output_type": "display_data"
    }
   ],
   "source": [
    "plt.plot(day_index, cases, \"b.--\", alpha=0.7, label=\"Monkeypox in Europe\"); \n",
    "plt.xlabel(\"Days since 2022-05-26\"); \n",
    "plt.ylabel(\"Cases\"); plt.legend(); "
   ]
  },
  {
   "cell_type": "code",
   "execution_count": 4,
   "id": "c2248825",
   "metadata": {},
   "outputs": [],
   "source": [
    "confirmed_cases_06_10 = np.array([1, 1, 4, 3, 21, 16, 46, 16, 73, 34, 44, 88, 51, 16, \n",
    "                            15, 123, 66, 83, 125, 94, 7, 112, 97])"
   ]
  },
  {
   "cell_type": "code",
   "execution_count": 6,
   "id": "5c9aff8c",
   "metadata": {},
   "outputs": [],
   "source": [
    "def moving_average(data, ma_window):\n",
    "    moving_avg = data.copy()\n",
    "    i = 0\n",
    "    while i < len(data) - ma_window + 1:\n",
    "        window = data[i : i+ma_window]\n",
    "        moving_avg[i] = (sum(window)/ma_window)\n",
    "        i+=1\n",
    "    moving_avg[i:len(data)+1] = 0\n",
    "    return moving_avg\n",
    "\n",
    "ma7 = moving_average(confirmed_cases_06_10, 7)"
   ]
  },
  {
   "cell_type": "code",
   "execution_count": 7,
   "id": "e590c3cb",
   "metadata": {},
   "outputs": [
    {
     "data": {
      "text/plain": [
       "array([13, 15, 25, 29, 35, 45, 50, 46, 45, 53, 57, 63, 68, 74, 73, 87, 83,\n",
       "        0,  0,  0,  0,  0,  0])"
      ]
     },
     "execution_count": 7,
     "metadata": {},
     "output_type": "execute_result"
    }
   ],
   "source": [
    "ma7"
   ]
  },
  {
   "cell_type": "code",
   "execution_count": 8,
   "id": "d36a2962",
   "metadata": {},
   "outputs": [],
   "source": [
    "import pandas as pd\n",
    "df = pd.read_csv(\"https://raw.githubusercontent.com/globaldothealth/monkeypox/main/latest.csv\")"
   ]
  },
  {
   "cell_type": "code",
   "execution_count": 9,
   "id": "ee70bd9b",
   "metadata": {},
   "outputs": [
    {
     "data": {
      "text/html": [
       "<div>\n",
       "<style scoped>\n",
       "    .dataframe tbody tr th:only-of-type {\n",
       "        vertical-align: middle;\n",
       "    }\n",
       "\n",
       "    .dataframe tbody tr th {\n",
       "        vertical-align: top;\n",
       "    }\n",
       "\n",
       "    .dataframe thead th {\n",
       "        text-align: right;\n",
       "    }\n",
       "</style>\n",
       "<table border=\"1\" class=\"dataframe\">\n",
       "  <thead>\n",
       "    <tr style=\"text-align: right;\">\n",
       "      <th></th>\n",
       "      <th>ID</th>\n",
       "      <th>Status</th>\n",
       "      <th>Location</th>\n",
       "      <th>City</th>\n",
       "      <th>Country</th>\n",
       "      <th>Age</th>\n",
       "      <th>Gender</th>\n",
       "      <th>Date_onset</th>\n",
       "      <th>Date_confirmation</th>\n",
       "      <th>Symptoms</th>\n",
       "      <th>...</th>\n",
       "      <th>Travel_history_country</th>\n",
       "      <th>Genomics_Metadata</th>\n",
       "      <th>Confirmation_method</th>\n",
       "      <th>Source</th>\n",
       "      <th>Source_II</th>\n",
       "      <th>Date_entry</th>\n",
       "      <th>Date_last_modified</th>\n",
       "      <th>Source_III</th>\n",
       "      <th>Source_IV</th>\n",
       "      <th>Country_ISO3</th>\n",
       "    </tr>\n",
       "  </thead>\n",
       "  <tbody>\n",
       "    <tr>\n",
       "      <th>0</th>\n",
       "      <td>1</td>\n",
       "      <td>confirmed</td>\n",
       "      <td>Guy's and St Thomas Hospital London</td>\n",
       "      <td>London</td>\n",
       "      <td>England</td>\n",
       "      <td>NaN</td>\n",
       "      <td>NaN</td>\n",
       "      <td>2022-04-29</td>\n",
       "      <td>2022-05-06</td>\n",
       "      <td>rash</td>\n",
       "      <td>...</td>\n",
       "      <td>Nigeria</td>\n",
       "      <td>West African Clade</td>\n",
       "      <td>RT-PCR</td>\n",
       "      <td>https://www.gov.uk/government/news/monkeypox-c...</td>\n",
       "      <td>https://www.who.int/emergencies/disease-outbre...</td>\n",
       "      <td>2022-05-18</td>\n",
       "      <td>2022-05-18</td>\n",
       "      <td>NaN</td>\n",
       "      <td>NaN</td>\n",
       "      <td>GBR</td>\n",
       "    </tr>\n",
       "    <tr>\n",
       "      <th>1</th>\n",
       "      <td>2</td>\n",
       "      <td>confirmed</td>\n",
       "      <td>Guy's and St Thomas Hospital London</td>\n",
       "      <td>London</td>\n",
       "      <td>England</td>\n",
       "      <td>NaN</td>\n",
       "      <td>NaN</td>\n",
       "      <td>2022-05-05</td>\n",
       "      <td>2022-05-12</td>\n",
       "      <td>rash</td>\n",
       "      <td>...</td>\n",
       "      <td>NaN</td>\n",
       "      <td>West African Clade</td>\n",
       "      <td>RT-PCR</td>\n",
       "      <td>https://www.gov.uk/government/news/monkeypox-c...</td>\n",
       "      <td>NaN</td>\n",
       "      <td>2022-05-18</td>\n",
       "      <td>2022-05-18</td>\n",
       "      <td>NaN</td>\n",
       "      <td>NaN</td>\n",
       "      <td>GBR</td>\n",
       "    </tr>\n",
       "    <tr>\n",
       "      <th>2</th>\n",
       "      <td>3</td>\n",
       "      <td>confirmed</td>\n",
       "      <td>London</td>\n",
       "      <td>London</td>\n",
       "      <td>England</td>\n",
       "      <td>NaN</td>\n",
       "      <td>NaN</td>\n",
       "      <td>2022-04-30</td>\n",
       "      <td>2022-05-13</td>\n",
       "      <td>vesicular rash</td>\n",
       "      <td>...</td>\n",
       "      <td>NaN</td>\n",
       "      <td>West African Clade</td>\n",
       "      <td>RT-PCR</td>\n",
       "      <td>https://www.gov.uk/government/news/monkeypox-c...</td>\n",
       "      <td>NaN</td>\n",
       "      <td>2022-05-18</td>\n",
       "      <td>2022-05-18</td>\n",
       "      <td>NaN</td>\n",
       "      <td>NaN</td>\n",
       "      <td>GBR</td>\n",
       "    </tr>\n",
       "    <tr>\n",
       "      <th>3</th>\n",
       "      <td>4</td>\n",
       "      <td>confirmed</td>\n",
       "      <td>London</td>\n",
       "      <td>London</td>\n",
       "      <td>England</td>\n",
       "      <td>NaN</td>\n",
       "      <td>male</td>\n",
       "      <td>NaN</td>\n",
       "      <td>2022-05-15</td>\n",
       "      <td>vesicular rash</td>\n",
       "      <td>...</td>\n",
       "      <td>NaN</td>\n",
       "      <td>West African Clade</td>\n",
       "      <td>NaN</td>\n",
       "      <td>https://www.gov.uk/government/news/monkeypox-c...</td>\n",
       "      <td>NaN</td>\n",
       "      <td>2022-05-18</td>\n",
       "      <td>2022-05-18</td>\n",
       "      <td>NaN</td>\n",
       "      <td>NaN</td>\n",
       "      <td>GBR</td>\n",
       "    </tr>\n",
       "    <tr>\n",
       "      <th>4</th>\n",
       "      <td>5</td>\n",
       "      <td>confirmed</td>\n",
       "      <td>London</td>\n",
       "      <td>London</td>\n",
       "      <td>England</td>\n",
       "      <td>NaN</td>\n",
       "      <td>male</td>\n",
       "      <td>NaN</td>\n",
       "      <td>2022-05-15</td>\n",
       "      <td>vesicular rash</td>\n",
       "      <td>...</td>\n",
       "      <td>NaN</td>\n",
       "      <td>West African Clade</td>\n",
       "      <td>NaN</td>\n",
       "      <td>https://www.gov.uk/government/news/monkeypox-c...</td>\n",
       "      <td>NaN</td>\n",
       "      <td>2022-05-18</td>\n",
       "      <td>2022-05-18</td>\n",
       "      <td>NaN</td>\n",
       "      <td>NaN</td>\n",
       "      <td>GBR</td>\n",
       "    </tr>\n",
       "  </tbody>\n",
       "</table>\n",
       "<p>5 rows × 32 columns</p>\n",
       "</div>"
      ],
      "text/plain": [
       "   ID     Status                             Location    City  Country  Age  \\\n",
       "0   1  confirmed  Guy's and St Thomas Hospital London  London  England  NaN   \n",
       "1   2  confirmed  Guy's and St Thomas Hospital London  London  England  NaN   \n",
       "2   3  confirmed                               London  London  England  NaN   \n",
       "3   4  confirmed                               London  London  England  NaN   \n",
       "4   5  confirmed                               London  London  England  NaN   \n",
       "\n",
       "  Gender  Date_onset Date_confirmation        Symptoms  ...  \\\n",
       "0    NaN  2022-04-29        2022-05-06            rash  ...   \n",
       "1    NaN  2022-05-05        2022-05-12            rash  ...   \n",
       "2    NaN  2022-04-30        2022-05-13  vesicular rash  ...   \n",
       "3   male         NaN        2022-05-15  vesicular rash  ...   \n",
       "4   male         NaN        2022-05-15  vesicular rash  ...   \n",
       "\n",
       "  Travel_history_country   Genomics_Metadata Confirmation_method  \\\n",
       "0                Nigeria  West African Clade              RT-PCR   \n",
       "1                    NaN  West African Clade              RT-PCR   \n",
       "2                    NaN  West African Clade              RT-PCR   \n",
       "3                    NaN  West African Clade                 NaN   \n",
       "4                    NaN  West African Clade                 NaN   \n",
       "\n",
       "                                              Source  \\\n",
       "0  https://www.gov.uk/government/news/monkeypox-c...   \n",
       "1  https://www.gov.uk/government/news/monkeypox-c...   \n",
       "2  https://www.gov.uk/government/news/monkeypox-c...   \n",
       "3  https://www.gov.uk/government/news/monkeypox-c...   \n",
       "4  https://www.gov.uk/government/news/monkeypox-c...   \n",
       "\n",
       "                                           Source_II  Date_entry  \\\n",
       "0  https://www.who.int/emergencies/disease-outbre...  2022-05-18   \n",
       "1                                                NaN  2022-05-18   \n",
       "2                                                NaN  2022-05-18   \n",
       "3                                                NaN  2022-05-18   \n",
       "4                                                NaN  2022-05-18   \n",
       "\n",
       "   Date_last_modified Source_III Source_IV Country_ISO3  \n",
       "0          2022-05-18        NaN       NaN          GBR  \n",
       "1          2022-05-18        NaN       NaN          GBR  \n",
       "2          2022-05-18        NaN       NaN          GBR  \n",
       "3          2022-05-18        NaN       NaN          GBR  \n",
       "4          2022-05-18        NaN       NaN          GBR  \n",
       "\n",
       "[5 rows x 32 columns]"
      ]
     },
     "execution_count": 9,
     "metadata": {},
     "output_type": "execute_result"
    }
   ],
   "source": [
    "df.head()"
   ]
  },
  {
   "cell_type": "code",
   "execution_count": 11,
   "id": "bf846af3",
   "metadata": {},
   "outputs": [
    {
     "data": {
      "text/plain": [
       "0          1\n",
       "1          2\n",
       "2          3\n",
       "3          4\n",
       "4          5\n",
       "        ... \n",
       "1968    1969\n",
       "1969    1970\n",
       "1970    1971\n",
       "1971    1972\n",
       "1972    1973\n",
       "Name: ID, Length: 1973, dtype: int64"
      ]
     },
     "execution_count": 11,
     "metadata": {},
     "output_type": "execute_result"
    }
   ],
   "source": [
    "df[\"ID\"]"
   ]
  },
  {
   "cell_type": "markdown",
   "id": "e674b04b",
   "metadata": {},
   "source": [
    "# Gravity batteries"
   ]
  },
  {
   "cell_type": "code",
   "execution_count": 8,
   "id": "db2b73c4",
   "metadata": {},
   "outputs": [],
   "source": [
    "capacities_US_eia = np.array([164, 166, 168, 168, 168])\n",
    "years = np.array([2016, 2017, 2018, 2019, 2020])\n",
    "assert len(capacities_US_eia) == len(years)"
   ]
  },
  {
   "cell_type": "code",
   "execution_count": 9,
   "id": "f429d66a",
   "metadata": {},
   "outputs": [
    {
     "data": {
      "text/plain": [
       "Text(0, 0.5, 'Capacity in GW')"
      ]
     },
     "execution_count": 9,
     "metadata": {},
     "output_type": "execute_result"
    },
    {
     "data": {
      "image/png": "[encoded data removed]",
      "text/plain": [
       "<Figure size 432x288 with 1 Axes>"
      ]
     },
     "metadata": {
      "needs_background": "light"
     },
     "output_type": "display_data"
    }
   ],
   "source": [
    "plt.plot(years, capacities_US_eia, \"b.--\", alpha=0.7, label=\"Installed capacity worldwide\")\n",
    "plt.xlabel(\"Year\"); plt.ylabel(\"Capacity in GW\")"
   ]
  },
  {
   "cell_type": "code",
   "execution_count": 11,
   "id": "8b3dc432",
   "metadata": {},
   "outputs": [
    {
     "data": {
      "text/plain": [
       "68.49400000000001"
      ]
     },
     "execution_count": 11,
     "metadata": {},
     "output_type": "execute_result"
    }
   ],
   "source": [
    "wp_data_greater_1GW = [1, 1.065, 1.2, 1.2, 3.003, 1.16, 1.566, 1.164, 1.728, 1, 1, 1.317, 3.6, 1.060, 1.8, 2.4, 1.2, 1.2, 2.448, 1.05, 1.872, 1.062, 1.050, 1.2, 1.008, 1.602, 1.071, 1.08, 1.932, 1.206, 1, 1.2, 1.652, 1.095, 1.016, 1.45, 1.28, 1.125, 1, 1.2, 1.836, 1.2, 1.5, 1.296, 1, 1.2, 1, 1, 1.2, 1]\n",
    "sum(wp_data_greater_1GW)"
   ]
  },
  {
   "cell_type": "code",
   "execution_count": 12,
   "id": "88021758",
   "metadata": {},
   "outputs": [
    {
     "data": {
      "text/plain": [
       "155.69999999999996"
      ]
     },
     "execution_count": 12,
     "metadata": {},
     "output_type": "execute_result"
    }
   ],
   "source": [
    "wp_data_en_total_by_country = [32.0, 28.3, 22.6, 8.0, 7.1, 6.8, 6.5, 6.4, 5.8, 4.7, 4.7, 3.5, 3.1, 2.9, 2.8, 2.6, 2.2, 1.7, 1.4, 1.4, 1.2]\n",
    "sum(wp_data_en_total_by_country)"
   ]
  },
  {
   "cell_type": "markdown",
   "id": "3216b917",
   "metadata": {},
   "source": [
    "Additional sources: \n",
    "- 2014, 130 GW: https://www.sciencedirect.com/science/article/abs/pii/S1364032115000398?via%3Dihub\n",
    "\n"
   ]
  },
  {
   "cell_type": "code",
   "execution_count": null,
   "id": "55b61b15",
   "metadata": {},
   "outputs": [],
   "source": [
    "capacities_additional_sources = np.array([130, 164, 166, 168, 168, 168])\n",
    "years = np.array([2014, 2016, 2017, 2018, 2019, 2020])\n",
    "assert len(capacities_US_eia) == len(years)"
   ]
  },
  {
   "cell_type": "markdown",
   "id": "cf020f57",
   "metadata": {},
   "source": [
    "## IRENA 2030 study\n",
    "[IRENA](https://www.irena.org/-/media/Files/IRENA/Agency/Publication/2017/Oct/IRENA_Electricity_Storage_Costs_2017_Summary.pdf?la=en&hash=2FDC44939920F8D2BA29CB762C607BC9E882D4E9) estimates that pumped hydro storage will increase by 2030. \n",
    "From $4.67$ TWh in 2017, they estimate an increase by 2030 by $1.57 - 2.34$ TWh for a total of $6.24 - 7.01$ TWh\n",
    "\n",
    "Naively, that increase scales the 2017 capacity of 166 GW to $\\approx219 - 246$ GW\n"
   ]
  },
  {
   "cell_type": "code",
   "execution_count": 16,
   "id": "06bd1ffc",
   "metadata": {},
   "outputs": [
    {
     "data": {
      "text/plain": [
       "[6.24, 7.01]"
      ]
     },
     "execution_count": 16,
     "metadata": {},
     "output_type": "execute_result"
    }
   ],
   "source": [
    "irena_2017_TWh = 4.67\n",
    "irena_2030_estimate_TWh = [irena_2017_TWh + elem for elem in [1.57, 2.34]]\n",
    "irena_2030_estimate_TWh"
   ]
  },
  {
   "cell_type": "code",
   "execution_count": 21,
   "id": "4f3514cb",
   "metadata": {},
   "outputs": [
    {
     "data": {
      "text/plain": [
       "221.80728051391864"
      ]
     },
     "execution_count": 21,
     "metadata": {},
     "output_type": "execute_result"
    }
   ],
   "source": [
    "capacities_US_eia[1]/irena_2017_TWh * irena_2030_estimate_TWh[0]"
   ]
  },
  {
   "cell_type": "code",
   "execution_count": 22,
   "id": "b034cd24",
   "metadata": {},
   "outputs": [
    {
     "data": {
      "text/plain": [
       "249.17773019271948"
      ]
     },
     "execution_count": 22,
     "metadata": {},
     "output_type": "execute_result"
    }
   ],
   "source": [
    "capacities_US_eia[1]/irena_2017_TWh * irena_2030_estimate_TWh[1]"
   ]
  },
  {
   "cell_type": "code",
   "execution_count": null,
   "id": "af46f668",
   "metadata": {},
   "outputs": [],
   "source": []
  }
 ],
 "metadata": {
  "kernelspec": {
   "display_name": "Python 3 (ipykernel)",
   "language": "python",
   "name": "python3"
  },
  "language_info": {
   "codemirror_mode": {
    "name": "ipython",
    "version": 3
   },
   "file_extension": ".py",
   "mimetype": "text/x-python",
   "name": "python",
   "nbconvert_exporter": "python",
   "pygments_lexer": "ipython3",
   "version": "3.9.13"
  }
 },
 "nbformat": 4,
 "nbformat_minor": 5
}
